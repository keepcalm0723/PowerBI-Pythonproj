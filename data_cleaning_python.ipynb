{
  "nbformat": 4,
  "nbformat_minor": 0,
  "metadata": {
    "colab": {
      "provenance": []
    },
    "kernelspec": {
      "name": "python3",
      "display_name": "Python 3"
    },
    "language_info": {
      "name": "python"
    }
  },
  "cells": [
    {
      "cell_type": "code",
      "execution_count": null,
      "metadata": {
        "colab": {
          "base_uri": "https://localhost:8080/"
        },
        "id": "fJFNqim05BUe",
        "outputId": "e65c5ec1-0d7c-4e7b-cefe-06cdb3d604fc"
      },
      "outputs": [
        {
          "output_type": "stream",
          "name": "stdout",
          "text": [
            "Requirement already satisfied: pandas in /usr/local/lib/python3.10/dist-packages (2.2.2)\n",
            "Requirement already satisfied: openpyxl in /usr/local/lib/python3.10/dist-packages (3.1.5)\n",
            "Requirement already satisfied: numpy>=1.22.4 in /usr/local/lib/python3.10/dist-packages (from pandas) (1.26.4)\n",
            "Requirement already satisfied: python-dateutil>=2.8.2 in /usr/local/lib/python3.10/dist-packages (from pandas) (2.8.2)\n",
            "Requirement already satisfied: pytz>=2020.1 in /usr/local/lib/python3.10/dist-packages (from pandas) (2024.2)\n",
            "Requirement already satisfied: tzdata>=2022.7 in /usr/local/lib/python3.10/dist-packages (from pandas) (2024.2)\n",
            "Requirement already satisfied: et-xmlfile in /usr/local/lib/python3.10/dist-packages (from openpyxl) (2.0.0)\n",
            "Requirement already satisfied: six>=1.5 in /usr/local/lib/python3.10/dist-packages (from python-dateutil>=2.8.2->pandas) (1.17.0)\n",
            "<class 'pandas.core.frame.DataFrame'>\n",
            "RangeIndex: 30 entries, 0 to 29\n",
            "Data columns (total 68 columns):\n",
            " #   Column              Non-Null Count  Dtype  \n",
            "---  ------              --------------  -----  \n",
            " 0   BrandName           30 non-null     object \n",
            " 1   BrandOriginCountry  30 non-null     object \n",
            " 2   BrandOriginRegion   30 non-null     object \n",
            " 3   BrandSector         30 non-null     object \n",
            " 4   BrandSubSector      30 non-null     object \n",
            " 5   Rank2001            16 non-null     float64\n",
            " 6   Rank2002            15 non-null     float64\n",
            " 7   Rank2003            15 non-null     float64\n",
            " 8   Rank2004            18 non-null     float64\n",
            " 9   Rank2005            18 non-null     float64\n",
            " 10  Rank2006            19 non-null     float64\n",
            " 11  Rank2007            17 non-null     float64\n",
            " 12  Rank2008            17 non-null     float64\n",
            " 13  Rank2009            21 non-null     float64\n",
            " 14  Rank2010            16 non-null     float64\n",
            " 15  Rank2011            15 non-null     float64\n",
            " 16  Rank2012            15 non-null     float64\n",
            " 17  Rank2013            15 non-null     float64\n",
            " 18  Rank2014            15 non-null     float64\n",
            " 19  Rank2015            14 non-null     float64\n",
            " 20  Rank2016            14 non-null     float64\n",
            " 21  Rank2017            13 non-null     float64\n",
            " 22  Rank2018            14 non-null     float64\n",
            " 23  Rank2019            14 non-null     float64\n",
            " 24  Rank2020            14 non-null     float64\n",
            " 25  Rank2021            15 non-null     float64\n",
            " 26  Equity2001          15 non-null     float64\n",
            " 27  Equity2002          15 non-null     float64\n",
            " 28  Equity2003          15 non-null     float64\n",
            " 29  Equity2004          18 non-null     float64\n",
            " 30  Equity2005          18 non-null     float64\n",
            " 31  Equity2006          19 non-null     float64\n",
            " 32  Equity2007          17 non-null     float64\n",
            " 33  Equity2008          17 non-null     float64\n",
            " 34  Equity2009          21 non-null     float64\n",
            " 35  Equity2010          16 non-null     float64\n",
            " 36  Equity2011          15 non-null     float64\n",
            " 37  Equity2012          15 non-null     float64\n",
            " 38  Equity2013          15 non-null     float64\n",
            " 39  Equity2014          15 non-null     float64\n",
            " 40  Equity2015          14 non-null     float64\n",
            " 41  Equity2016          14 non-null     float64\n",
            " 42  Equity2017          13 non-null     float64\n",
            " 43  Equity2018          14 non-null     float64\n",
            " 44  Equity2019          14 non-null     float64\n",
            " 45  Equity2020          14 non-null     float64\n",
            " 46  Equity2021          15 non-null     float64\n",
            " 47  GrowthRate2001      0 non-null      float64\n",
            " 48  GrowthRate2002      13 non-null     float64\n",
            " 49  GrowthRate2003      14 non-null     float64\n",
            " 50  GrowthRate2004      15 non-null     float64\n",
            " 51  GrowthRate2005      16 non-null     float64\n",
            " 52  GrowthRate2006      18 non-null     float64\n",
            " 53  GrowthRate2007      16 non-null     float64\n",
            " 54  GrowthRate2008      15 non-null     float64\n",
            " 55  GrowthRate2009      17 non-null     float64\n",
            " 56  GrowthRate2010      16 non-null     float64\n",
            " 57  GrowthRate2011      15 non-null     float64\n",
            " 58  GrowthRate2012      13 non-null     float64\n",
            " 59  GrowthRate2013      15 non-null     float64\n",
            " 60  GrowthRate2014      14 non-null     float64\n",
            " 61  GrowthRate2015      14 non-null     float64\n",
            " 62  GrowthRate2016      14 non-null     float64\n",
            " 63  GrowthRate2017      14 non-null     float64\n",
            " 64  GrowthRate2018      13 non-null     float64\n",
            " 65  GrowthRate2019      14 non-null     float64\n",
            " 66  GrowthRate2020      14 non-null     float64\n",
            " 67  GrowthRate2021      14 non-null     float64\n",
            "dtypes: float64(63), object(5)\n",
            "memory usage: 16.1+ KB\n",
            "None\n"
          ]
        }
      ],
      "source": [
        "import pandas as pd\n",
        "!pip install pandas openpyxl\n",
        "\n",
        "# Load the dataset\n",
        "file_path = r\"/content/Dataset Global Fashion.xlsx\"\n",
        "data = pd.read_excel(file_path, engine=\"openpyxl\")\n",
        "\n",
        "print(data.info())"
      ]
    },
    {
      "cell_type": "code",
      "source": [
        "print(data.describe())"
      ],
      "metadata": {
        "colab": {
          "base_uri": "https://localhost:8080/"
        },
        "id": "KuDigxWG_LwQ",
        "outputId": "3ce31c72-9f0b-4d40-d29f-da028e69ce30"
      },
      "execution_count": null,
      "outputs": [
        {
          "output_type": "stream",
          "name": "stdout",
          "text": [
            "         Rank2001    Rank2002   Rank2003    Rank2004   Rank2005    Rank2006  \\\n",
            "count   16.000000   15.000000  15.000000   18.000000  18.000000   19.000000   \n",
            "mean    69.687500   66.533333  64.066667   71.611111  70.055556   72.210526   \n",
            "std     23.145104   20.635845  19.196230   21.633685  24.235298   24.336938   \n",
            "min     31.000000   35.000000  33.000000   31.000000  18.000000   17.000000   \n",
            "25%     57.500000   53.000000  50.000000   58.250000  53.750000   57.000000   \n",
            "50%     69.500000   68.000000  67.000000   72.500000  74.500000   73.000000   \n",
            "75%     88.000000   79.500000  75.000000   91.750000  92.000000   95.500000   \n",
            "max    100.000000  100.000000  95.000000  100.000000  98.000000  100.000000   \n",
            "\n",
            "        Rank2007   Rank2008   Rank2009    Rank2010  ...  GrowthRate2012  \\\n",
            "count  17.000000  17.000000  21.000000   16.000000  ...       13.000000   \n",
            "mean   67.647059  64.117647  66.761905   63.062500  ...        7.046957   \n",
            "std    23.181192  24.407689  25.492950   27.360479  ...        8.373624   \n",
            "min    17.000000  16.000000  16.000000   16.000000  ...       -7.648515   \n",
            "25%    58.000000  51.000000  50.000000   44.750000  ...        1.402460   \n",
            "50%    69.000000  70.000000  70.000000   66.500000  ...        7.794134   \n",
            "75%    83.000000  79.000000  87.000000   84.750000  ...       14.934114   \n",
            "max    99.000000  98.000000  99.000000  100.000000  ...       17.644141   \n",
            "\n",
            "       GrowthRate2013  GrowthRate2014  GrowthRate2015  GrowthRate2016  \\\n",
            "count       15.000000       14.000000       14.000000       14.000000   \n",
            "mean        12.417545        7.288724        4.256676       -4.642064   \n",
            "std          9.903965        7.411221        9.807164       29.378867   \n",
            "min        -10.502815       -9.404250      -14.472797     -100.000000   \n",
            "25%          6.522594        3.475829       -0.237993       -8.686266   \n",
            "50%         12.479475        7.904226        5.194972        1.643985   \n",
            "75%         16.778233       11.324324        6.347174        8.348960   \n",
            "max         30.414423       17.870273       21.911552       19.492552   \n",
            "\n",
            "       GrowthRate2017  GrowthRate2018  GrowthRate2019  GrowthRate2020  \\\n",
            "count       14.000000       13.000000       14.000000       14.000000   \n",
            "mean        -6.993414        7.437651        6.873396       -3.557753   \n",
            "std         28.236681       12.662341        8.127016        6.533668   \n",
            "min       -100.000000      -17.873877       -5.441333      -14.297950   \n",
            "25%         -6.512141        1.311780        0.599214       -7.435199   \n",
            "50%         -3.350917        4.597701        7.315514       -2.962087   \n",
            "75%          7.508578       15.214638       11.154829       -0.064136   \n",
            "max         16.880152       29.822450       23.234431        8.318233   \n",
            "\n",
            "       GrowthRate2021  \n",
            "count       14.000000  \n",
            "mean         9.838879  \n",
            "std          9.205279  \n",
            "min         -9.144126  \n",
            "25%          4.769328  \n",
            "50%          9.665692  \n",
            "75%         16.952938  \n",
            "max         23.700128  \n",
            "\n",
            "[8 rows x 63 columns]\n"
          ]
        }
      ]
    },
    {
      "cell_type": "code",
      "source": [
        "#checking for the missing values\n",
        "print(data.isnull().sum())"
      ],
      "metadata": {
        "colab": {
          "base_uri": "https://localhost:8080/"
        },
        "id": "Cvvt6qw-_j-4",
        "outputId": "7dbd7fc9-bd78-4136-9eb7-96399c056d47"
      },
      "execution_count": null,
      "outputs": [
        {
          "output_type": "stream",
          "name": "stdout",
          "text": [
            "BrandName              0\n",
            "BrandOriginCountry     0\n",
            "BrandOriginRegion      0\n",
            "BrandSector            0\n",
            "BrandSubSector         0\n",
            "                      ..\n",
            "GrowthRate2017        16\n",
            "GrowthRate2018        17\n",
            "GrowthRate2019        16\n",
            "GrowthRate2020        16\n",
            "GrowthRate2021        16\n",
            "Length: 68, dtype: int64\n"
          ]
        }
      ]
    },
    {
      "cell_type": "code",
      "source": [
        "print(data.describe())"
      ],
      "metadata": {
        "colab": {
          "base_uri": "https://localhost:8080/"
        },
        "id": "PSqHvg4v_xsM",
        "outputId": "90035115-8a4a-4526-e88c-5de47692a3a8"
      },
      "execution_count": null,
      "outputs": [
        {
          "output_type": "stream",
          "name": "stdout",
          "text": [
            "         Rank2001    Rank2002   Rank2003    Rank2004   Rank2005    Rank2006  \\\n",
            "count   16.000000   15.000000  15.000000   18.000000  18.000000   19.000000   \n",
            "mean    69.687500   66.533333  64.066667   71.611111  70.055556   72.210526   \n",
            "std     23.145104   20.635845  19.196230   21.633685  24.235298   24.336938   \n",
            "min     31.000000   35.000000  33.000000   31.000000  18.000000   17.000000   \n",
            "25%     57.500000   53.000000  50.000000   58.250000  53.750000   57.000000   \n",
            "50%     69.500000   68.000000  67.000000   72.500000  74.500000   73.000000   \n",
            "75%     88.000000   79.500000  75.000000   91.750000  92.000000   95.500000   \n",
            "max    100.000000  100.000000  95.000000  100.000000  98.000000  100.000000   \n",
            "\n",
            "        Rank2007   Rank2008   Rank2009    Rank2010  ...  GrowthRate2012  \\\n",
            "count  17.000000  17.000000  21.000000   16.000000  ...       13.000000   \n",
            "mean   67.647059  64.117647  66.761905   63.062500  ...        7.046957   \n",
            "std    23.181192  24.407689  25.492950   27.360479  ...        8.373624   \n",
            "min    17.000000  16.000000  16.000000   16.000000  ...       -7.648515   \n",
            "25%    58.000000  51.000000  50.000000   44.750000  ...        1.402460   \n",
            "50%    69.000000  70.000000  70.000000   66.500000  ...        7.794134   \n",
            "75%    83.000000  79.000000  87.000000   84.750000  ...       14.934114   \n",
            "max    99.000000  98.000000  99.000000  100.000000  ...       17.644141   \n",
            "\n",
            "       GrowthRate2013  GrowthRate2014  GrowthRate2015  GrowthRate2016  \\\n",
            "count       15.000000       14.000000       14.000000       14.000000   \n",
            "mean        12.417545        7.288724        4.256676       -4.642064   \n",
            "std          9.903965        7.411221        9.807164       29.378867   \n",
            "min        -10.502815       -9.404250      -14.472797     -100.000000   \n",
            "25%          6.522594        3.475829       -0.237993       -8.686266   \n",
            "50%         12.479475        7.904226        5.194972        1.643985   \n",
            "75%         16.778233       11.324324        6.347174        8.348960   \n",
            "max         30.414423       17.870273       21.911552       19.492552   \n",
            "\n",
            "       GrowthRate2017  GrowthRate2018  GrowthRate2019  GrowthRate2020  \\\n",
            "count       14.000000       13.000000       14.000000       14.000000   \n",
            "mean        -6.993414        7.437651        6.873396       -3.557753   \n",
            "std         28.236681       12.662341        8.127016        6.533668   \n",
            "min       -100.000000      -17.873877       -5.441333      -14.297950   \n",
            "25%         -6.512141        1.311780        0.599214       -7.435199   \n",
            "50%         -3.350917        4.597701        7.315514       -2.962087   \n",
            "75%          7.508578       15.214638       11.154829       -0.064136   \n",
            "max         16.880152       29.822450       23.234431        8.318233   \n",
            "\n",
            "       GrowthRate2021  \n",
            "count       14.000000  \n",
            "mean         9.838879  \n",
            "std          9.205279  \n",
            "min         -9.144126  \n",
            "25%          4.769328  \n",
            "50%          9.665692  \n",
            "75%         16.952938  \n",
            "max         23.700128  \n",
            "\n",
            "[8 rows x 63 columns]\n"
          ]
        }
      ]
    },
    {
      "cell_type": "code",
      "source": [
        "numeric_cols = data.select_dtypes(include=['number']).columns  # Select only numeric columns\n",
        "data_clean = data.copy()\n",
        "data_clean[numeric_cols] = data_clean[numeric_cols].fillna(data[numeric_cols].mean())  # Fill NaN in numeric columns\n",
        "\n",
        "# Verify that missing values have been filled\n",
        "print(data_clean.isnull().sum())\n"
      ],
      "metadata": {
        "colab": {
          "base_uri": "https://localhost:8080/"
        },
        "id": "XW8ntEAGJCEO",
        "outputId": "e55bcbcc-326a-49f4-9c8f-8fe7561c7ba0"
      },
      "execution_count": null,
      "outputs": [
        {
          "output_type": "stream",
          "name": "stdout",
          "text": [
            "BrandName             0\n",
            "BrandOriginCountry    0\n",
            "BrandOriginRegion     0\n",
            "BrandSector           0\n",
            "BrandSubSector        0\n",
            "                     ..\n",
            "GrowthRate2017        0\n",
            "GrowthRate2018        0\n",
            "GrowthRate2019        0\n",
            "GrowthRate2020        0\n",
            "GrowthRate2021        0\n",
            "Length: 68, dtype: int64\n"
          ]
        }
      ]
    },
    {
      "cell_type": "code",
      "source": [
        "print(data.describe())"
      ],
      "metadata": {
        "colab": {
          "base_uri": "https://localhost:8080/"
        },
        "id": "oRwhMLMFKyUq",
        "outputId": "372249c2-f50d-4810-ecda-9e17bf047b30"
      },
      "execution_count": null,
      "outputs": [
        {
          "output_type": "stream",
          "name": "stdout",
          "text": [
            "         Rank2001    Rank2002   Rank2003    Rank2004   Rank2005    Rank2006  \\\n",
            "count   16.000000   15.000000  15.000000   18.000000  18.000000   19.000000   \n",
            "mean    69.687500   66.533333  64.066667   71.611111  70.055556   72.210526   \n",
            "std     23.145104   20.635845  19.196230   21.633685  24.235298   24.336938   \n",
            "min     31.000000   35.000000  33.000000   31.000000  18.000000   17.000000   \n",
            "25%     57.500000   53.000000  50.000000   58.250000  53.750000   57.000000   \n",
            "50%     69.500000   68.000000  67.000000   72.500000  74.500000   73.000000   \n",
            "75%     88.000000   79.500000  75.000000   91.750000  92.000000   95.500000   \n",
            "max    100.000000  100.000000  95.000000  100.000000  98.000000  100.000000   \n",
            "\n",
            "        Rank2007   Rank2008   Rank2009    Rank2010  ...  GrowthRate2012  \\\n",
            "count  17.000000  17.000000  21.000000   16.000000  ...       13.000000   \n",
            "mean   67.647059  64.117647  66.761905   63.062500  ...        7.046957   \n",
            "std    23.181192  24.407689  25.492950   27.360479  ...        8.373624   \n",
            "min    17.000000  16.000000  16.000000   16.000000  ...       -7.648515   \n",
            "25%    58.000000  51.000000  50.000000   44.750000  ...        1.402460   \n",
            "50%    69.000000  70.000000  70.000000   66.500000  ...        7.794134   \n",
            "75%    83.000000  79.000000  87.000000   84.750000  ...       14.934114   \n",
            "max    99.000000  98.000000  99.000000  100.000000  ...       17.644141   \n",
            "\n",
            "       GrowthRate2013  GrowthRate2014  GrowthRate2015  GrowthRate2016  \\\n",
            "count       15.000000       14.000000       14.000000       14.000000   \n",
            "mean        12.417545        7.288724        4.256676       -4.642064   \n",
            "std          9.903965        7.411221        9.807164       29.378867   \n",
            "min        -10.502815       -9.404250      -14.472797     -100.000000   \n",
            "25%          6.522594        3.475829       -0.237993       -8.686266   \n",
            "50%         12.479475        7.904226        5.194972        1.643985   \n",
            "75%         16.778233       11.324324        6.347174        8.348960   \n",
            "max         30.414423       17.870273       21.911552       19.492552   \n",
            "\n",
            "       GrowthRate2017  GrowthRate2018  GrowthRate2019  GrowthRate2020  \\\n",
            "count       14.000000       13.000000       14.000000       14.000000   \n",
            "mean        -6.993414        7.437651        6.873396       -3.557753   \n",
            "std         28.236681       12.662341        8.127016        6.533668   \n",
            "min       -100.000000      -17.873877       -5.441333      -14.297950   \n",
            "25%         -6.512141        1.311780        0.599214       -7.435199   \n",
            "50%         -3.350917        4.597701        7.315514       -2.962087   \n",
            "75%          7.508578       15.214638       11.154829       -0.064136   \n",
            "max         16.880152       29.822450       23.234431        8.318233   \n",
            "\n",
            "       GrowthRate2021  \n",
            "count       14.000000  \n",
            "mean         9.838879  \n",
            "std          9.205279  \n",
            "min         -9.144126  \n",
            "25%          4.769328  \n",
            "50%          9.665692  \n",
            "75%         16.952938  \n",
            "max         23.700128  \n",
            "\n",
            "[8 rows x 63 columns]\n"
          ]
        }
      ]
    },
    {
      "cell_type": "code",
      "source": [
        "# Saved the cleaned data to an Excel file\n",
        "data_clean.to_excel('cleaned_global_fashion_data.xlsx', index=False)"
      ],
      "metadata": {
        "id": "mch2iwoTLEgb"
      },
      "execution_count": null,
      "outputs": []
    }
  ]
}